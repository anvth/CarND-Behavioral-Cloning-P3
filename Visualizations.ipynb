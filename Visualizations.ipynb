{
 "cells": [
  {
   "cell_type": "code",
   "execution_count": 1,
   "metadata": {},
   "outputs": [
    {
     "name": "stderr",
     "output_type": "stream",
     "text": [
      "Using TensorFlow backend.\n"
     ]
    }
   ],
   "source": [
    "\n",
    "from IPython.display import display, Image, SVG\n",
    "from keras.models import load_model\n",
    "\n",
    "def loadModel(modelPath):\n",
    "    \"\"\"\n",
    "    Loads the model `modelPath`.\n",
    "    \"\"\"\n",
    "    model = load_model(modelPath)\n",
    "    return model\n"
   ]
  },
  {
   "cell_type": "code",
   "execution_count": 2,
   "metadata": {},
   "outputs": [],
   "source": [
    "def getLayerConfig(layer):\n",
    "    \"\"\"\n",
    "    Extract configuration from `layer`.\n",
    "    \"\"\"\n",
    "    layerType = layer.__class__.__name__\n",
    "    output = { 'type': layerType }\n",
    "    config = layer.get_config()\n",
    "    if layerType == 'Lambda':\n",
    "        _, x, y, d = config['batch_input_shape']\n",
    "        output['input'] = (x, y, d)\n",
    "    if layerType == 'Cropping2D':\n",
    "        output['cropping'] = config['cropping']\n",
    "    if layerType == 'Convolution2D':\n",
    "        output['activation'] = config['activation']\n",
    "        output['strides'] = config['subsample']\n",
    "        output['filters'] = config['nb_filter']\n",
    "        output['kernel'] = ( config['nb_col'], config['nb_row'] )\n",
    "    if layerType == 'Dense':\n",
    "        output['activation'] = config['activation']\n",
    "#         output['output'] = config['output_dim']\n",
    "#         output['input'] = config['input_dim']\n",
    "    return output\n",
    "\n",
    "from functools import reduce\n",
    "def compressLayers(layers):\n",
    "    \"\"\"\n",
    "    Compress the common layers into a single structure for visualization.\n",
    "    \"\"\"\n",
    "    def reductor(acc, layer):\n",
    "        if len(acc) == 0:\n",
    "            acc.append(layer)\n",
    "            return acc\n",
    "        \n",
    "        last = acc[-1]\n",
    "        if last['type'] == layer['type']:\n",
    "            try:\n",
    "                last['items'].append(layer)\n",
    "            except KeyError:\n",
    "                acc[-1] = { 'type': layer['type'], 'items': [last, layer]}\n",
    "        else:\n",
    "            acc.append(layer)\n",
    "        return acc\n",
    "    \n",
    "    return reduce(reductor, layers, [])"
   ]
  },
  {
   "cell_type": "code",
   "execution_count": 3,
   "metadata": {},
   "outputs": [],
   "source": [
    "import graphviz as gv\n",
    "import functools\n",
    "import json"
   ]
  },
  {
   "cell_type": "code",
   "execution_count": 4,
   "metadata": {},
   "outputs": [],
   "source": [
    "def createNode(nodeName, layer, g, style='filled', fillcolor='white', fontcolor='black'):\n",
    "    \"\"\"\n",
    "    Creates a node with the information from `layer` in the `g`.\n",
    "    \"\"\"\n",
    "    type = layer['type']\n",
    "    label = type + '\\n'\n",
    "    for key, value in layer.items():\n",
    "        if (key != 'type'):\n",
    "            label += '{}: {}\\n'.format(key, value)\n",
    "    g.node(nodeName, label=label, style=style, fillcolor=fillcolor, fontcolor=fontcolor)\n",
    "\n",
    "def visualizeLayers(layers, outputPath):\n",
    "    \"\"\"\n",
    "    Visualize `layers` and store the image at `outputPath`.\n",
    "    \"\"\"\n",
    "    fillcolors = { 'Convolution2D':'#AAAAAA', 'Dense':'#006699' }\n",
    "    g = gv.Digraph(format='png')\n",
    "    for index, layer in enumerate(layers):\n",
    "        nodeName = str(index)\n",
    "        try:\n",
    "            items = layer['items']\n",
    "            subGraphType = layer['type']\n",
    "            fillcolor = fillcolors[subGraphType]\n",
    "            g.node(nodeName, label=subGraphType, style='filled', fillcolor=fillcolor, fontcolor='white')\n",
    "            subG = gv.Digraph(format='png')\n",
    "            for i, subLayer in enumerate(items):\n",
    "                subNodeName = nodeName + str(i)\n",
    "                createNode(subNodeName, subLayer, subG, fillcolor=fillcolor, fontcolor='white')\n",
    "                if i != 0:\n",
    "                    subG.edge(nodeName + str(i - 1), subNodeName)\n",
    "                    \n",
    "            g.subgraph(subG)\n",
    "            \n",
    "        except KeyError:\n",
    "            createNode(nodeName, layer, g)\n",
    "        if index != 0:\n",
    "            g.edge(str(index - 1), nodeName)\n",
    "            \n",
    "    styles = {\n",
    "        'graph': {\n",
    "        },\n",
    "        'nodes': {\n",
    "            'fontname': 'Helvetica',\n",
    "            'shape': 'rectangle'\n",
    "        },\n",
    "        'edges': {\n",
    "            'arrowhead': 'open'\n",
    "        }\n",
    "    }\n",
    "    g.graph_attr.update(\n",
    "        ('graph' in styles and styles['graph']) or {}\n",
    "    )\n",
    "    g.node_attr.update(\n",
    "        ('nodes' in styles and styles['nodes']) or {}\n",
    "    )\n",
    "    g.edge_attr.update(\n",
    "        ('edges' in styles and styles['edges']) or {}\n",
    "    )\n",
    "    \n",
    "    g.render(outputPath)\n",
    "    figure = Image(outputPath + '.png')\n",
    "    display(figure)"
   ]
  },
  {
   "cell_type": "code",
   "execution_count": 5,
   "metadata": {},
   "outputs": [],
   "source": [
    "def visualizeModel(modelPath, imagePath):\n",
    "    \"\"\"\n",
    "    Visualize the model found at `modelPath` to a SVG at `imagePath`\n",
    "    \"\"\"\n",
    "    model = loadModel(modelPath)\n",
    "    layerData = list(map(getLayerConfig, model.layers))\n",
    "    compressedLayers = compressLayers(layerData)\n",
    "    visualizeLayers(compressedLayers, imagePath)\n"
   ]
  },
  {
   "cell_type": "code",
   "execution_count": 6,
   "metadata": {},
   "outputs": [
    {
     "name": "stderr",
     "output_type": "stream",
     "text": [
      "/home/anvith/.virtualenv/ds/lib/python3.5/site-packages/keras/engine/topology.py:1252: UserWarning: Update your `Conv2D` call to the Keras 2 API: `Conv2D(data_format=\"channels_last\", kernel_initializer=\"glorot_uniform\", strides=[2, 2], filters=24, name=\"convolution2d_1\", activation=\"relu\", kernel_regularizer=None, kernel_constraint=None, padding=\"valid\", trainable=True, activity_regularizer=None, kernel_size=(5, 5), bias_constraint=None, bias_regularizer=None, use_bias=True)`\n",
      "  return cls(**config)\n",
      "/home/anvith/.virtualenv/ds/lib/python3.5/site-packages/keras/engine/topology.py:1252: UserWarning: Update your `Conv2D` call to the Keras 2 API: `Conv2D(data_format=\"channels_last\", kernel_initializer=\"glorot_uniform\", strides=[2, 2], filters=36, name=\"convolution2d_2\", activation=\"relu\", kernel_regularizer=None, kernel_constraint=None, padding=\"valid\", trainable=True, activity_regularizer=None, kernel_size=(5, 5), bias_constraint=None, bias_regularizer=None, use_bias=True)`\n",
      "  return cls(**config)\n",
      "/home/anvith/.virtualenv/ds/lib/python3.5/site-packages/keras/engine/topology.py:1252: UserWarning: Update your `Conv2D` call to the Keras 2 API: `Conv2D(data_format=\"channels_last\", kernel_initializer=\"glorot_uniform\", strides=[2, 2], filters=48, name=\"convolution2d_3\", activation=\"relu\", kernel_regularizer=None, kernel_constraint=None, padding=\"valid\", trainable=True, activity_regularizer=None, kernel_size=(5, 5), bias_constraint=None, bias_regularizer=None, use_bias=True)`\n",
      "  return cls(**config)\n",
      "/home/anvith/.virtualenv/ds/lib/python3.5/site-packages/keras/engine/topology.py:1252: UserWarning: Update your `Conv2D` call to the Keras 2 API: `Conv2D(data_format=\"channels_last\", kernel_initializer=\"glorot_uniform\", strides=[1, 1], filters=64, name=\"convolution2d_4\", activation=\"relu\", kernel_regularizer=None, kernel_constraint=None, padding=\"valid\", trainable=True, activity_regularizer=None, kernel_size=(3, 3), bias_constraint=None, bias_regularizer=None, use_bias=True)`\n",
      "  return cls(**config)\n",
      "/home/anvith/.virtualenv/ds/lib/python3.5/site-packages/keras/engine/topology.py:1252: UserWarning: Update your `Conv2D` call to the Keras 2 API: `Conv2D(data_format=\"channels_last\", kernel_initializer=\"glorot_uniform\", strides=[1, 1], filters=64, name=\"convolution2d_5\", activation=\"relu\", kernel_regularizer=None, kernel_constraint=None, padding=\"valid\", trainable=True, activity_regularizer=None, kernel_size=(3, 3), bias_constraint=None, bias_regularizer=None, use_bias=True)`\n",
      "  return cls(**config)\n",
      "/home/anvith/.virtualenv/ds/lib/python3.5/site-packages/keras/engine/topology.py:1252: UserWarning: Update your `Dense` call to the Keras 2 API: `Dense(bias_regularizer=None, trainable=True, activity_regularizer=None, activation=\"linear\", bias_constraint=None, input_dim=8448, kernel_constraint=None, kernel_initializer=\"glorot_uniform\", name=\"dense_1\", units=100, use_bias=True, kernel_regularizer=None)`\n",
      "  return cls(**config)\n",
      "/home/anvith/.virtualenv/ds/lib/python3.5/site-packages/keras/engine/topology.py:1252: UserWarning: Update your `Dense` call to the Keras 2 API: `Dense(bias_regularizer=None, trainable=True, activity_regularizer=None, activation=\"linear\", bias_constraint=None, input_dim=100, kernel_constraint=None, kernel_initializer=\"glorot_uniform\", name=\"dense_2\", units=50, use_bias=True, kernel_regularizer=None)`\n",
      "  return cls(**config)\n",
      "/home/anvith/.virtualenv/ds/lib/python3.5/site-packages/keras/engine/topology.py:1252: UserWarning: Update your `Dense` call to the Keras 2 API: `Dense(bias_regularizer=None, trainable=True, activity_regularizer=None, activation=\"linear\", bias_constraint=None, input_dim=50, kernel_constraint=None, kernel_initializer=\"glorot_uniform\", name=\"dense_3\", units=10, use_bias=True, kernel_regularizer=None)`\n",
      "  return cls(**config)\n",
      "/home/anvith/.virtualenv/ds/lib/python3.5/site-packages/keras/engine/topology.py:1252: UserWarning: Update your `Dense` call to the Keras 2 API: `Dense(bias_regularizer=None, trainable=True, activity_regularizer=None, activation=\"linear\", bias_constraint=None, input_dim=10, kernel_constraint=None, kernel_initializer=\"glorot_uniform\", name=\"dense_4\", units=1, use_bias=True, kernel_regularizer=None)`\n",
      "  return cls(**config)\n"
     ]
    },
    {
     "ename": "ExecutableNotFound",
     "evalue": "failed to execute ['dot', '-Tpng', '-O', 'images/model'], make sure the Graphviz executables are on your systems' PATH",
     "output_type": "error",
     "traceback": [
      "\u001b[0;31m---------------------------------------------------------------------------\u001b[0m",
      "\u001b[0;31mFileNotFoundError\u001b[0m                         Traceback (most recent call last)",
      "\u001b[0;32m~/.virtualenv/ds/lib/python3.5/site-packages/graphviz/backend.py\u001b[0m in \u001b[0;36mrender\u001b[0;34m(engine, format, filepath, quiet)\u001b[0m\n\u001b[1;32m    123\u001b[0m         \u001b[0;32mtry\u001b[0m\u001b[0;34m:\u001b[0m\u001b[0;34m\u001b[0m\u001b[0m\n\u001b[0;32m--> 124\u001b[0;31m             \u001b[0msubprocess\u001b[0m\u001b[0;34m.\u001b[0m\u001b[0mcheck_call\u001b[0m\u001b[0;34m(\u001b[0m\u001b[0margs\u001b[0m\u001b[0;34m,\u001b[0m \u001b[0mstartupinfo\u001b[0m\u001b[0;34m=\u001b[0m\u001b[0mSTARTUPINFO\u001b[0m\u001b[0;34m,\u001b[0m \u001b[0mstderr\u001b[0m\u001b[0;34m=\u001b[0m\u001b[0mstderr\u001b[0m\u001b[0;34m)\u001b[0m\u001b[0;34m\u001b[0m\u001b[0m\n\u001b[0m\u001b[1;32m    125\u001b[0m         \u001b[0;32mexcept\u001b[0m \u001b[0mOSError\u001b[0m \u001b[0;32mas\u001b[0m \u001b[0me\u001b[0m\u001b[0;34m:\u001b[0m\u001b[0;34m\u001b[0m\u001b[0m\n",
      "\u001b[0;32m/usr/lib/python3.5/subprocess.py\u001b[0m in \u001b[0;36mcheck_call\u001b[0;34m(*popenargs, **kwargs)\u001b[0m\n\u001b[1;32m    265\u001b[0m     \"\"\"\n\u001b[0;32m--> 266\u001b[0;31m     \u001b[0mretcode\u001b[0m \u001b[0;34m=\u001b[0m \u001b[0mcall\u001b[0m\u001b[0;34m(\u001b[0m\u001b[0;34m*\u001b[0m\u001b[0mpopenargs\u001b[0m\u001b[0;34m,\u001b[0m \u001b[0;34m**\u001b[0m\u001b[0mkwargs\u001b[0m\u001b[0;34m)\u001b[0m\u001b[0;34m\u001b[0m\u001b[0m\n\u001b[0m\u001b[1;32m    267\u001b[0m     \u001b[0;32mif\u001b[0m \u001b[0mretcode\u001b[0m\u001b[0;34m:\u001b[0m\u001b[0;34m\u001b[0m\u001b[0m\n",
      "\u001b[0;32m/usr/lib/python3.5/subprocess.py\u001b[0m in \u001b[0;36mcall\u001b[0;34m(timeout, *popenargs, **kwargs)\u001b[0m\n\u001b[1;32m    246\u001b[0m     \"\"\"\n\u001b[0;32m--> 247\u001b[0;31m     \u001b[0;32mwith\u001b[0m \u001b[0mPopen\u001b[0m\u001b[0;34m(\u001b[0m\u001b[0;34m*\u001b[0m\u001b[0mpopenargs\u001b[0m\u001b[0;34m,\u001b[0m \u001b[0;34m**\u001b[0m\u001b[0mkwargs\u001b[0m\u001b[0;34m)\u001b[0m \u001b[0;32mas\u001b[0m \u001b[0mp\u001b[0m\u001b[0;34m:\u001b[0m\u001b[0;34m\u001b[0m\u001b[0m\n\u001b[0m\u001b[1;32m    248\u001b[0m         \u001b[0;32mtry\u001b[0m\u001b[0;34m:\u001b[0m\u001b[0;34m\u001b[0m\u001b[0m\n",
      "\u001b[0;32m/usr/lib/python3.5/subprocess.py\u001b[0m in \u001b[0;36m__init__\u001b[0;34m(self, args, bufsize, executable, stdin, stdout, stderr, preexec_fn, close_fds, shell, cwd, env, universal_newlines, startupinfo, creationflags, restore_signals, start_new_session, pass_fds)\u001b[0m\n\u001b[1;32m    675\u001b[0m                                 \u001b[0merrread\u001b[0m\u001b[0;34m,\u001b[0m \u001b[0merrwrite\u001b[0m\u001b[0;34m,\u001b[0m\u001b[0;34m\u001b[0m\u001b[0m\n\u001b[0;32m--> 676\u001b[0;31m                                 restore_signals, start_new_session)\n\u001b[0m\u001b[1;32m    677\u001b[0m         \u001b[0;32mexcept\u001b[0m\u001b[0;34m:\u001b[0m\u001b[0;34m\u001b[0m\u001b[0m\n",
      "\u001b[0;32m/usr/lib/python3.5/subprocess.py\u001b[0m in \u001b[0;36m_execute_child\u001b[0;34m(self, args, executable, preexec_fn, close_fds, pass_fds, cwd, env, startupinfo, creationflags, shell, p2cread, p2cwrite, c2pread, c2pwrite, errread, errwrite, restore_signals, start_new_session)\u001b[0m\n\u001b[1;32m   1281\u001b[0m                                 \u001b[0merr_msg\u001b[0m \u001b[0;34m+=\u001b[0m \u001b[0;34m': '\u001b[0m \u001b[0;34m+\u001b[0m \u001b[0mrepr\u001b[0m\u001b[0;34m(\u001b[0m\u001b[0morig_executable\u001b[0m\u001b[0;34m)\u001b[0m\u001b[0;34m\u001b[0m\u001b[0m\n\u001b[0;32m-> 1282\u001b[0;31m                     \u001b[0;32mraise\u001b[0m \u001b[0mchild_exception_type\u001b[0m\u001b[0;34m(\u001b[0m\u001b[0merrno_num\u001b[0m\u001b[0;34m,\u001b[0m \u001b[0merr_msg\u001b[0m\u001b[0;34m)\u001b[0m\u001b[0;34m\u001b[0m\u001b[0m\n\u001b[0m\u001b[1;32m   1283\u001b[0m                 \u001b[0;32mraise\u001b[0m \u001b[0mchild_exception_type\u001b[0m\u001b[0;34m(\u001b[0m\u001b[0merr_msg\u001b[0m\u001b[0;34m)\u001b[0m\u001b[0;34m\u001b[0m\u001b[0m\n",
      "\u001b[0;31mFileNotFoundError\u001b[0m: [Errno 2] No such file or directory: 'dot'",
      "\nDuring handling of the above exception, another exception occurred:\n",
      "\u001b[0;31mExecutableNotFound\u001b[0m                        Traceback (most recent call last)",
      "\u001b[0;32m<ipython-input-6-765213d78b9f>\u001b[0m in \u001b[0;36m<module>\u001b[0;34m()\u001b[0m\n\u001b[0;32m----> 1\u001b[0;31m \u001b[0mvisualizeModel\u001b[0m\u001b[0;34m(\u001b[0m\u001b[0;34m'model.h5'\u001b[0m\u001b[0;34m,\u001b[0m \u001b[0;34m'images/model'\u001b[0m\u001b[0;34m)\u001b[0m\u001b[0;34m\u001b[0m\u001b[0m\n\u001b[0m",
      "\u001b[0;32m<ipython-input-5-e053c59eb305>\u001b[0m in \u001b[0;36mvisualizeModel\u001b[0;34m(modelPath, imagePath)\u001b[0m\n\u001b[1;32m      6\u001b[0m     \u001b[0mlayerData\u001b[0m \u001b[0;34m=\u001b[0m \u001b[0mlist\u001b[0m\u001b[0;34m(\u001b[0m\u001b[0mmap\u001b[0m\u001b[0;34m(\u001b[0m\u001b[0mgetLayerConfig\u001b[0m\u001b[0;34m,\u001b[0m \u001b[0mmodel\u001b[0m\u001b[0;34m.\u001b[0m\u001b[0mlayers\u001b[0m\u001b[0;34m)\u001b[0m\u001b[0;34m)\u001b[0m\u001b[0;34m\u001b[0m\u001b[0m\n\u001b[1;32m      7\u001b[0m     \u001b[0mcompressedLayers\u001b[0m \u001b[0;34m=\u001b[0m \u001b[0mcompressLayers\u001b[0m\u001b[0;34m(\u001b[0m\u001b[0mlayerData\u001b[0m\u001b[0;34m)\u001b[0m\u001b[0;34m\u001b[0m\u001b[0m\n\u001b[0;32m----> 8\u001b[0;31m     \u001b[0mvisualizeLayers\u001b[0m\u001b[0;34m(\u001b[0m\u001b[0mcompressedLayers\u001b[0m\u001b[0;34m,\u001b[0m \u001b[0mimagePath\u001b[0m\u001b[0;34m)\u001b[0m\u001b[0;34m\u001b[0m\u001b[0m\n\u001b[0m",
      "\u001b[0;32m<ipython-input-4-160e19dcef9e>\u001b[0m in \u001b[0;36mvisualizeLayers\u001b[0;34m(layers, outputPath)\u001b[0m\n\u001b[1;32m     58\u001b[0m     )\n\u001b[1;32m     59\u001b[0m \u001b[0;34m\u001b[0m\u001b[0m\n\u001b[0;32m---> 60\u001b[0;31m     \u001b[0mg\u001b[0m\u001b[0;34m.\u001b[0m\u001b[0mrender\u001b[0m\u001b[0;34m(\u001b[0m\u001b[0moutputPath\u001b[0m\u001b[0;34m)\u001b[0m\u001b[0;34m\u001b[0m\u001b[0m\n\u001b[0m\u001b[1;32m     61\u001b[0m     \u001b[0mfigure\u001b[0m \u001b[0;34m=\u001b[0m \u001b[0mImage\u001b[0m\u001b[0;34m(\u001b[0m\u001b[0moutputPath\u001b[0m \u001b[0;34m+\u001b[0m \u001b[0;34m'.png'\u001b[0m\u001b[0;34m)\u001b[0m\u001b[0;34m\u001b[0m\u001b[0m\n\u001b[1;32m     62\u001b[0m     \u001b[0mdisplay\u001b[0m\u001b[0;34m(\u001b[0m\u001b[0mfigure\u001b[0m\u001b[0;34m)\u001b[0m\u001b[0;34m\u001b[0m\u001b[0m\n",
      "\u001b[0;32m~/.virtualenv/ds/lib/python3.5/site-packages/graphviz/files.py\u001b[0m in \u001b[0;36mrender\u001b[0;34m(self, filename, directory, view, cleanup)\u001b[0m\n\u001b[1;32m    169\u001b[0m         \u001b[0mfilepath\u001b[0m \u001b[0;34m=\u001b[0m \u001b[0mself\u001b[0m\u001b[0;34m.\u001b[0m\u001b[0msave\u001b[0m\u001b[0;34m(\u001b[0m\u001b[0mfilename\u001b[0m\u001b[0;34m,\u001b[0m \u001b[0mdirectory\u001b[0m\u001b[0;34m)\u001b[0m\u001b[0;34m\u001b[0m\u001b[0m\n\u001b[1;32m    170\u001b[0m \u001b[0;34m\u001b[0m\u001b[0m\n\u001b[0;32m--> 171\u001b[0;31m         \u001b[0mrendered\u001b[0m \u001b[0;34m=\u001b[0m \u001b[0mbackend\u001b[0m\u001b[0;34m.\u001b[0m\u001b[0mrender\u001b[0m\u001b[0;34m(\u001b[0m\u001b[0mself\u001b[0m\u001b[0;34m.\u001b[0m\u001b[0m_engine\u001b[0m\u001b[0;34m,\u001b[0m \u001b[0mself\u001b[0m\u001b[0;34m.\u001b[0m\u001b[0m_format\u001b[0m\u001b[0;34m,\u001b[0m \u001b[0mfilepath\u001b[0m\u001b[0;34m)\u001b[0m\u001b[0;34m\u001b[0m\u001b[0m\n\u001b[0m\u001b[1;32m    172\u001b[0m \u001b[0;34m\u001b[0m\u001b[0m\n\u001b[1;32m    173\u001b[0m         \u001b[0;32mif\u001b[0m \u001b[0mcleanup\u001b[0m\u001b[0;34m:\u001b[0m\u001b[0;34m\u001b[0m\u001b[0m\n",
      "\u001b[0;32m~/.virtualenv/ds/lib/python3.5/site-packages/graphviz/backend.py\u001b[0m in \u001b[0;36mrender\u001b[0;34m(engine, format, filepath, quiet)\u001b[0m\n\u001b[1;32m    125\u001b[0m         \u001b[0;32mexcept\u001b[0m \u001b[0mOSError\u001b[0m \u001b[0;32mas\u001b[0m \u001b[0me\u001b[0m\u001b[0;34m:\u001b[0m\u001b[0;34m\u001b[0m\u001b[0m\n\u001b[1;32m    126\u001b[0m             \u001b[0;32mif\u001b[0m \u001b[0me\u001b[0m\u001b[0;34m.\u001b[0m\u001b[0merrno\u001b[0m \u001b[0;34m==\u001b[0m \u001b[0merrno\u001b[0m\u001b[0;34m.\u001b[0m\u001b[0mENOENT\u001b[0m\u001b[0;34m:\u001b[0m\u001b[0;34m\u001b[0m\u001b[0m\n\u001b[0;32m--> 127\u001b[0;31m                 \u001b[0;32mraise\u001b[0m \u001b[0mExecutableNotFound\u001b[0m\u001b[0;34m(\u001b[0m\u001b[0margs\u001b[0m\u001b[0;34m)\u001b[0m\u001b[0;34m\u001b[0m\u001b[0m\n\u001b[0m\u001b[1;32m    128\u001b[0m             \u001b[0;32melse\u001b[0m\u001b[0;34m:\u001b[0m  \u001b[0;31m# pragma: no cover\u001b[0m\u001b[0;34m\u001b[0m\u001b[0m\n\u001b[1;32m    129\u001b[0m                 \u001b[0;32mraise\u001b[0m\u001b[0;34m\u001b[0m\u001b[0m\n",
      "\u001b[0;31mExecutableNotFound\u001b[0m: failed to execute ['dot', '-Tpng', '-O', 'images/model'], make sure the Graphviz executables are on your systems' PATH"
     ]
    }
   ],
   "source": [
    "visualizeModel('model.h5', 'images/model')"
   ]
  },
  {
   "cell_type": "code",
   "execution_count": 7,
   "metadata": {},
   "outputs": [
    {
     "name": "stderr",
     "output_type": "stream",
     "text": [
      "/home/anvith/.virtualenv/ds/lib/python3.5/site-packages/keras/engine/topology.py:1252: UserWarning: Update your `Conv2D` call to the Keras 2 API: `Conv2D(data_format=\"channels_last\", kernel_initializer=\"glorot_uniform\", strides=[2, 2], filters=24, name=\"convolution2d_1\", activation=\"relu\", kernel_regularizer=None, kernel_constraint=None, padding=\"valid\", trainable=True, activity_regularizer=None, kernel_size=(5, 5), bias_constraint=None, bias_regularizer=None, use_bias=True)`\n",
      "  return cls(**config)\n",
      "/home/anvith/.virtualenv/ds/lib/python3.5/site-packages/keras/engine/topology.py:1252: UserWarning: Update your `Conv2D` call to the Keras 2 API: `Conv2D(data_format=\"channels_last\", kernel_initializer=\"glorot_uniform\", strides=[2, 2], filters=36, name=\"convolution2d_2\", activation=\"relu\", kernel_regularizer=None, kernel_constraint=None, padding=\"valid\", trainable=True, activity_regularizer=None, kernel_size=(5, 5), bias_constraint=None, bias_regularizer=None, use_bias=True)`\n",
      "  return cls(**config)\n",
      "/home/anvith/.virtualenv/ds/lib/python3.5/site-packages/keras/engine/topology.py:1252: UserWarning: Update your `Conv2D` call to the Keras 2 API: `Conv2D(data_format=\"channels_last\", kernel_initializer=\"glorot_uniform\", strides=[2, 2], filters=48, name=\"convolution2d_3\", activation=\"relu\", kernel_regularizer=None, kernel_constraint=None, padding=\"valid\", trainable=True, activity_regularizer=None, kernel_size=(5, 5), bias_constraint=None, bias_regularizer=None, use_bias=True)`\n",
      "  return cls(**config)\n",
      "/home/anvith/.virtualenv/ds/lib/python3.5/site-packages/keras/engine/topology.py:1252: UserWarning: Update your `Conv2D` call to the Keras 2 API: `Conv2D(data_format=\"channels_last\", kernel_initializer=\"glorot_uniform\", strides=[1, 1], filters=64, name=\"convolution2d_4\", activation=\"relu\", kernel_regularizer=None, kernel_constraint=None, padding=\"valid\", trainable=True, activity_regularizer=None, kernel_size=(3, 3), bias_constraint=None, bias_regularizer=None, use_bias=True)`\n",
      "  return cls(**config)\n",
      "/home/anvith/.virtualenv/ds/lib/python3.5/site-packages/keras/engine/topology.py:1252: UserWarning: Update your `Conv2D` call to the Keras 2 API: `Conv2D(data_format=\"channels_last\", kernel_initializer=\"glorot_uniform\", strides=[1, 1], filters=64, name=\"convolution2d_5\", activation=\"relu\", kernel_regularizer=None, kernel_constraint=None, padding=\"valid\", trainable=True, activity_regularizer=None, kernel_size=(3, 3), bias_constraint=None, bias_regularizer=None, use_bias=True)`\n",
      "  return cls(**config)\n",
      "/home/anvith/.virtualenv/ds/lib/python3.5/site-packages/keras/engine/topology.py:1252: UserWarning: Update your `Dense` call to the Keras 2 API: `Dense(bias_regularizer=None, trainable=True, activity_regularizer=None, activation=\"linear\", bias_constraint=None, input_dim=8448, kernel_constraint=None, kernel_initializer=\"glorot_uniform\", name=\"dense_1\", units=100, use_bias=True, kernel_regularizer=None)`\n",
      "  return cls(**config)\n",
      "/home/anvith/.virtualenv/ds/lib/python3.5/site-packages/keras/engine/topology.py:1252: UserWarning: Update your `Dense` call to the Keras 2 API: `Dense(bias_regularizer=None, trainable=True, activity_regularizer=None, activation=\"linear\", bias_constraint=None, input_dim=100, kernel_constraint=None, kernel_initializer=\"glorot_uniform\", name=\"dense_2\", units=50, use_bias=True, kernel_regularizer=None)`\n",
      "  return cls(**config)\n",
      "/home/anvith/.virtualenv/ds/lib/python3.5/site-packages/keras/engine/topology.py:1252: UserWarning: Update your `Dense` call to the Keras 2 API: `Dense(bias_regularizer=None, trainable=True, activity_regularizer=None, activation=\"linear\", bias_constraint=None, input_dim=50, kernel_constraint=None, kernel_initializer=\"glorot_uniform\", name=\"dense_3\", units=10, use_bias=True, kernel_regularizer=None)`\n",
      "  return cls(**config)\n",
      "/home/anvith/.virtualenv/ds/lib/python3.5/site-packages/keras/engine/topology.py:1252: UserWarning: Update your `Dense` call to the Keras 2 API: `Dense(bias_regularizer=None, trainable=True, activity_regularizer=None, activation=\"linear\", bias_constraint=None, input_dim=10, kernel_constraint=None, kernel_initializer=\"glorot_uniform\", name=\"dense_4\", units=1, use_bias=True, kernel_regularizer=None)`\n",
      "  return cls(**config)\n"
     ]
    },
    {
     "name": "stdout",
     "output_type": "stream",
     "text": [
      "_________________________________________________________________\n",
      "Layer (type)                 Output Shape              Param #   \n",
      "=================================================================\n",
      "lambda_1 (Lambda)            (None, 160, 320, 3)       0         \n",
      "_________________________________________________________________\n",
      "cropping2d_1 (Cropping2D)    (None, 90, 320, 3)        0         \n",
      "_________________________________________________________________\n",
      "convolution2d_1 (Conv2D)     (None, 43, 158, 24)       1824      \n",
      "_________________________________________________________________\n",
      "convolution2d_2 (Conv2D)     (None, 20, 77, 36)        21636     \n",
      "_________________________________________________________________\n",
      "convolution2d_3 (Conv2D)     (None, 8, 37, 48)         43248     \n",
      "_________________________________________________________________\n",
      "convolution2d_4 (Conv2D)     (None, 6, 35, 64)         27712     \n",
      "_________________________________________________________________\n",
      "convolution2d_5 (Conv2D)     (None, 4, 33, 64)         36928     \n",
      "_________________________________________________________________\n",
      "flatten_1 (Flatten)          (None, 8448)              0         \n",
      "_________________________________________________________________\n",
      "dense_1 (Dense)              (None, 100)               844900    \n",
      "_________________________________________________________________\n",
      "dense_2 (Dense)              (None, 50)                5050      \n",
      "_________________________________________________________________\n",
      "dense_3 (Dense)              (None, 10)                510       \n",
      "_________________________________________________________________\n",
      "dense_4 (Dense)              (None, 1)                 11        \n",
      "=================================================================\n",
      "Total params: 981,819\n",
      "Trainable params: 981,819\n",
      "Non-trainable params: 0\n",
      "_________________________________________________________________\n"
     ]
    }
   ],
   "source": [
    "loadModel('model.h5').summary()"
   ]
  },
  {
   "cell_type": "code",
   "execution_count": 9,
   "metadata": {},
   "outputs": [
    {
     "data": {
      "image/png": "[encoded data removed]",
      "text/plain": [
       "<matplotlib.figure.Figure at 0x7f8b19d35978>"
      ]
     },
     "metadata": {},
     "output_type": "display_data"
    }
   ],
   "source": [
    "from keras.models import Model\n",
    "import matplotlib.pyplot as plt\n",
    "\n",
    "# dict_keys(['loss', 'val_loss'])\n",
    "# Loss\n",
    "# [0.045153103061875123, 0.031848681302726264, 0.027354457760211899]\n",
    "# Validation Loss\n",
    "# [0.033896364609334075, 0.028193514087644336, 0.026007735237962643]\n",
    "loss = [0.0194, 0.0160, 0.0147]\n",
    "valid_loss = [0.0164, 0.0146, 0.0155]\n",
    "\n",
    "### plot the training and validation loss for each epoch\n",
    "plt.plot(loss)\n",
    "plt.plot(valid_loss)\n",
    "plt.title('model mean squared error loss')\n",
    "plt.ylabel('mean squared error loss')\n",
    "plt.xlabel('epoch')\n",
    "plt.legend(['training set', 'validation set'], loc='upper right')\n",
    "plt.grid(color='black', linestyle='--', linewidth=1)\n",
    "plt.show()"
   ]
  }
 ],
 "metadata": {
  "kernelspec": {
   "display_name": "Python 3",
   "language": "python",
   "name": "python3"
  },
  "language_info": {
   "codemirror_mode": {
    "name": "ipython",
    "version": 3
   },
   "file_extension": ".py",
   "mimetype": "text/x-python",
   "name": "python",
   "nbconvert_exporter": "python",
   "pygments_lexer": "ipython3",
   "version": "3.5.3"
  },
  "widgets": {
   "state": {},
   "version": "1.1.2"
  }
 },
 "nbformat": 4,
 "nbformat_minor": 2
}
